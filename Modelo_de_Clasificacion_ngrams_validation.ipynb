{
  "nbformat": 4,
  "nbformat_minor": 0,
  "metadata": {
    "colab": {
      "name": "Copia de Modelo_de_Clasificacion_ngrams_validation.ipynb",
      "provenance": [],
      "collapsed_sections": [],
      "toc_visible": true,
      "include_colab_link": true
    },
    "kernelspec": {
      "name": "python3",
      "display_name": "Python 3"
    }
  },
  "cells": [
    {
      "cell_type": "markdown",
      "metadata": {
        "id": "view-in-github",
        "colab_type": "text"
      },
      "source": [
        "<a href=\"https://colab.research.google.com/github/jaangulor/Ciencia-de-Datos/blob/master/Modelo_de_Clasificacion_ngrams_validation.ipynb\" target=\"_parent\"><img src=\"https://colab.research.google.com/assets/colab-badge.svg\" alt=\"Open In Colab\"/></a>"
      ]
    },
    {
      "cell_type": "markdown",
      "metadata": {
        "id": "nJPO1NOruW18",
        "colab_type": "text"
      },
      "source": [
        "# Clasificación usando Lenguaje Natural"
      ]
    },
    {
      "cell_type": "code",
      "metadata": {
        "id": "NJc6nHMRudjy",
        "colab_type": "code",
        "outputId": "c552c4aa-22d3-499a-cbbb-faade15b6752",
        "colab": {
          "base_uri": "https://localhost:8080/",
          "height": 34
        }
      },
      "source": [
        "# Librerias\n",
        "\n",
        "import csv\n",
        "import tensorflow as tf\n",
        "import numpy as np\n",
        "import matplotlib.pyplot as plt\n",
        "import pandas as pd\n",
        "import matplotlib.pylab as plt\n",
        "import nltk\n",
        "import string\n",
        "import itertools\n",
        "from nltk import word_tokenize\n",
        "from nltk.util import ngrams\n",
        "from tensorflow.keras.preprocessing.text import Tokenizer\n",
        "from tensorflow.keras.preprocessing.sequence import pad_sequences\n",
        "from keras import layers, backend\n",
        "from nltk.tokenize import word_tokenize, sent_tokenize, regexp_tokenize\n",
        "from sklearn. preprocessing import LabelEncoder"
      ],
      "execution_count": 1,
      "outputs": [
        {
          "output_type": "stream",
          "text": [
            "Using TensorFlow backend.\n"
          ],
          "name": "stderr"
        }
      ]
    },
    {
      "cell_type": "markdown",
      "metadata": {
        "id": "ZAXQiC96uq4s",
        "colab_type": "text"
      },
      "source": [
        "# Define algunas características iniciales"
      ]
    },
    {
      "cell_type": "code",
      "metadata": {
        "id": "gpNtUB-ZujD1",
        "colab_type": "code",
        "colab": {}
      },
      "source": [
        "vocab_size = 23121 # número de palabras que integrarán el vocabulario\n",
        "embedding_dim = 32 # dimensión del embeding de las palabras\n",
        "max_length = 111  # longitud máxima de una oración (sentence filtrada con stopwords)\n",
        "trunc_type='post' # donde truncar una oración (sentence, filtrada con stopwords)\n",
        "padding_type='post'# donde hacer el padding (agregar ceros) en una oración (sentence, filtrada con stopwords)\n",
        "oov_tok = \"<OOV>\"  # token para las palabras que queden fuera del vocabulario\n",
        "training_portion = .8  # porcentaje de datos para entrenamiento"
      ],
      "execution_count": 0,
      "outputs": []
    },
    {
      "cell_type": "code",
      "metadata": {
        "id": "bjMtHB6t1gpN",
        "colab_type": "code",
        "outputId": "336c937f-1e37-4909-c1f3-6fea6ff6df15",
        "colab": {
          "base_uri": "https://localhost:8080/",
          "height": 68
        }
      },
      "source": [
        "a = np.array([32]) # space\n",
        "c = np.array(range(97,123)) # minúsculas\n",
        "printab = np.hstack((a,c))\n",
        "printable = np.array([chr(i) for i in printab])   \n",
        "printable "
      ],
      "execution_count": 3,
      "outputs": [
        {
          "output_type": "execute_result",
          "data": {
            "text/plain": [
              "array([' ', 'a', 'b', 'c', 'd', 'e', 'f', 'g', 'h', 'i', 'j', 'k', 'l',\n",
              "       'm', 'n', 'o', 'p', 'q', 'r', 's', 't', 'u', 'v', 'w', 'x', 'y',\n",
              "       'z'], dtype='<U1')"
            ]
          },
          "metadata": {
            "tags": []
          },
          "execution_count": 3
        }
      ]
    },
    {
      "cell_type": "markdown",
      "metadata": {
        "id": "xzVnwbLIx-nA",
        "colab_type": "text"
      },
      "source": [
        "## Lectura de los datos"
      ]
    },
    {
      "cell_type": "code",
      "metadata": {
        "id": "_hJ2PlWEK7Zp",
        "colab_type": "code",
        "colab": {}
      },
      "source": [
        "complete_sentences = [] #\n",
        "complete_lines = [] \n",
        "sentences = []\n",
        "labels = [] # etiquetas preprocesadas\n",
        "stopwords = []"
      ],
      "execution_count": 0,
      "outputs": []
    },
    {
      "cell_type": "code",
      "metadata": {
        "colab_type": "code",
        "id": "eutB2xMiZD0e",
        "outputId": "b73f2324-1c51-4e6a-8739-70f8496adc8d",
        "colab": {
          "base_uri": "https://localhost:8080/",
          "height": 85
        }
      },
      "source": [
        "import string\n",
        "import re #regular expresions\n",
        "# abre el archivo de datos y lo trata como un archivo csv\n",
        "file = open('DFSMS.csv', 'r')\n",
        "with file as csvfile:\n",
        "    reader = csv.reader(csvfile, delimiter=',')\n",
        "    next(reader)\n",
        "    for row in reader:\n",
        "        # preprocess label\n",
        "        #label_l = ' '.join(row[0].split()).lower().replace(' ','_') # lower case ans eliminate multiple spaces\n",
        "        label_l = re.sub(' +', ' ',row[0].lower()) # lower case ans eliminate multiple spaces\n",
        "        if (len(label_l)>2): # drop with empty label\n",
        "            label = ''.join(c for c in label_l if c in printable)# filter only printable characters\n",
        "            label = label.replace(' ','_')\n",
        "            labels.append(label)\n",
        "            # preprocess sentence\n",
        "            #sentence_l = ' '.join(row[1].split()).lower().replace(' ','_') # lower case ans eliminate multiple spaces\n",
        "            sentence_l = re.sub(' +', ' ',row[1].lower())\n",
        "            sentence = ''.join(c for c in sentence_l if c in printable)\n",
        "            complete_lines.append(row[0] + ': '+ row[1])\n",
        "            complete_sentences.append(sentence)\n",
        "            # preprocess stopwords\n",
        "            for word in stopwords:\n",
        "                token = \" \" + word + \" \"\n",
        "                sentence = sentence.replace(token, \" \")\n",
        "            sentences.append(sentence)\n",
        " \n",
        "\n",
        "# resumen de la lectura            \n",
        "print(len(labels))\n",
        "print(len(complete_sentences))\n",
        "print(len(complete_lines))\n",
        "print(len(sentences))"
      ],
      "execution_count": 5,
      "outputs": [
        {
          "output_type": "stream",
          "text": [
            "69171\n",
            "69171\n",
            "69171\n",
            "69171\n"
          ],
          "name": "stdout"
        }
      ]
    },
    {
      "cell_type": "code",
      "metadata": {
        "colab_type": "code",
        "id": "mHP5HqP4Yt5U",
        "outputId": "59c5a131-b50f-49d0-8540-6a0268cf4766",
        "colab": {
          "base_uri": "https://localhost:8080/",
          "height": 289
        }
      },
      "source": [
        "# Primera linea\n",
        "print(labels[0]+'\\n')\n",
        "print(complete_sentences[0]+'\\n')\n",
        "print(complete_lines[0]+'\\n')\n",
        "print(sentences[0]+'\\n')\n",
        "# Tercer linea\n",
        "print(labels[2]+'\\n')\n",
        "print(complete_sentences[2]+'\\n')\n",
        "print(complete_lines[2]+'\\n')\n",
        "print(sentences[2]+'\\n')"
      ],
      "execution_count": 6,
      "outputs": [
        {
          "output_type": "stream",
          "text": [
            "lisa_simpson\n",
            "\n",
            "wheres mr bergstrom\n",
            "\n",
            "Lisa Simpson: Where's Mr. Bergstrom?\n",
            "\n",
            "wheres mr bergstrom\n",
            "\n",
            "bart_simpson\n",
            "\n",
            "victory party under the slide\n",
            "\n",
            "Bart Simpson: Victory party under the slide!\n",
            "\n",
            "victory party under the slide\n",
            "\n"
          ],
          "name": "stdout"
        }
      ]
    },
    {
      "cell_type": "code",
      "metadata": {
        "colab_type": "code",
        "id": "djFPe1k6pOp9",
        "outputId": "c18a2a1a-4a04-441a-ccd3-ded30c60ee88",
        "colab": {
          "base_uri": "https://localhost:8080/",
          "height": 281
        }
      },
      "source": [
        "# Gráfico de barras de numero de frases por personaje\n",
        "frec = pd.value_counts(labels)\n",
        "plot = frec.plot(kind='barh',title='Numero de frases por personaje',color=['deepskyblue','orangered','darkkhaki','gold'])"
      ],
      "execution_count": 7,
      "outputs": [
        {
          "output_type": "display_data",
          "data": {
            "image/png": "[encoded data removed]",
            "text/plain": [
              "<Figure size 432x288 with 1 Axes>"
            ]
          },
          "metadata": {
            "tags": [],
            "needs_background": "light"
          }
        }
      ]
    },
    {
      "cell_type": "markdown",
      "metadata": {
        "colab_type": "text",
        "id": "QH4k5vkXYt6B"
      },
      "source": [
        "# Separa datos de entrenamiento y validación "
      ]
    },
    {
      "cell_type": "code",
      "metadata": {
        "id": "8ttL-pu1yqzz",
        "colab_type": "code",
        "outputId": "f9c20f84-8f74-4a55-e652-53d843ec417f",
        "colab": {
          "base_uri": "https://localhost:8080/",
          "height": 34
        }
      },
      "source": [
        "train_size = int(len(sentences) * training_portion)\n",
        "train_size # 80%"
      ],
      "execution_count": 8,
      "outputs": [
        {
          "output_type": "execute_result",
          "data": {
            "text/plain": [
              "55336"
            ]
          },
          "metadata": {
            "tags": []
          },
          "execution_count": 8
        }
      ]
    },
    {
      "cell_type": "markdown",
      "metadata": {
        "id": "pgr6FmIJzY42",
        "colab_type": "text"
      },
      "source": [
        "#### Grupo de entrenamiento"
      ]
    },
    {
      "cell_type": "code",
      "metadata": {
        "id": "y5VJtOX_zE9z",
        "colab_type": "code",
        "outputId": "1dafad32-b676-4a87-d04e-4ed89f2b131c",
        "colab": {
          "base_uri": "https://localhost:8080/",
          "height": 85
        }
      },
      "source": [
        "train_sentences = sentences[:train_size] # Frases de entrenamiento \n",
        "train_labels = labels # Etiquetas de entrenamiento\n",
        "print(len(train_sentences)) # Tamaño de frases de entrenamiento\n",
        "print(len(train_labels)) # Tamaño de etiquetas de entrenamiento\n",
        "print(train_sentences[:3]) \n",
        "print(train_labels[:3])"
      ],
      "execution_count": 9,
      "outputs": [
        {
          "output_type": "stream",
          "text": [
            "55336\n",
            "69171\n",
            "['wheres mr bergstrom', 'that life is worth living', 'victory party under the slide']\n",
            "['lisa_simpson', 'lisa_simpson', 'bart_simpson']\n"
          ],
          "name": "stdout"
        }
      ]
    },
    {
      "cell_type": "markdown",
      "metadata": {
        "id": "8SuVgyhrzowg",
        "colab_type": "text"
      },
      "source": [
        "#### Grupo de validación"
      ]
    },
    {
      "cell_type": "code",
      "metadata": {
        "id": "jyKUxrO4zK5O",
        "colab_type": "code",
        "outputId": "3351ec49-c72e-4b53-9d1c-ed0b31dd815f",
        "colab": {
          "base_uri": "https://localhost:8080/",
          "height": 85
        }
      },
      "source": [
        "validation_sentences = sentences[train_size:] # Frases de validacion\n",
        "validation_labels = labels[train_size:] # Frases de validacion\n",
        "print(len(validation_sentences)) # Tamaño de frases de validacion\n",
        "print(len(validation_labels)) # Tamaño de etiquetas de validacion\n",
        "print(validation_sentences[:3]) \n",
        "print(validation_labels[:3])"
      ],
      "execution_count": 10,
      "outputs": [
        {
          "output_type": "stream",
          "text": [
            "13835\n",
            "13835\n",
            "['', 'someone snitched whawhawhawhawhat are you gonna do to me', 'up or down']\n",
            "['homer_simpson', 'homer_simpson', 'homer_simpson']\n"
          ],
          "name": "stdout"
        }
      ]
    },
    {
      "cell_type": "markdown",
      "metadata": {
        "colab_type": "text",
        "id": "N_E4h9j8Mh90"
      },
      "source": [
        "# Grafica de frecuencia de n-gramas"
      ]
    },
    {
      "cell_type": "code",
      "metadata": {
        "id": "y4UOhrSPJfe7",
        "colab_type": "code",
        "outputId": "492f0f8c-1475-43d7-ac7b-70c016f48c32",
        "colab": {
          "base_uri": "https://localhost:8080/",
          "height": 187
        }
      },
      "source": [
        "#Juntamos todo el texto en una sola linea\n",
        "wordtk = ' '.join(train_sentences)\n",
        "\n",
        "#Para dividir las frases\n",
        "tokenstk = regexp_tokenize(wordtk, pattern=\"\\w+\")\n",
        "tokenstk[:10]"
      ],
      "execution_count": 11,
      "outputs": [
        {
          "output_type": "execute_result",
          "data": {
            "text/plain": [
              "['wheres',\n",
              " 'mr',\n",
              " 'bergstrom',\n",
              " 'that',\n",
              " 'life',\n",
              " 'is',\n",
              " 'worth',\n",
              " 'living',\n",
              " 'victory',\n",
              " 'party']"
            ]
          },
          "metadata": {
            "tags": []
          },
          "execution_count": 11
        }
      ]
    },
    {
      "cell_type": "code",
      "metadata": {
        "id": "PXSnjnMGJmT9",
        "colab_type": "code",
        "outputId": "f86bd007-f766-4c67-ccd4-7ee794770ddb",
        "colab": {
          "base_uri": "https://localhost:8080/",
          "height": 102
        }
      },
      "source": [
        "from nltk.util import ngrams\n",
        "trigrama = ngrams(tokenstk,3)\n",
        "trigrama = [' '.join(grams) for grams in trigrama]\n",
        "trigrama[:5]"
      ],
      "execution_count": 12,
      "outputs": [
        {
          "output_type": "execute_result",
          "data": {
            "text/plain": [
              "['wheres mr bergstrom',\n",
              " 'mr bergstrom that',\n",
              " 'bergstrom that life',\n",
              " 'that life is',\n",
              " 'life is worth']"
            ]
          },
          "metadata": {
            "tags": []
          },
          "execution_count": 12
        }
      ]
    },
    {
      "cell_type": "code",
      "metadata": {
        "colab_type": "code",
        "id": "LeHOcU_QpIDx",
        "outputId": "496ea476-7838-4ccc-b5cf-b06faf3d7ca0",
        "colab": {
          "base_uri": "https://localhost:8080/",
          "height": 354
        }
      },
      "source": [
        "# Gráfica con los trigramas\n",
        "freq = nltk.FreqDist(trigrama) #frecuencia de los tokens\n",
        "eliminar = [] #filtramos tokens que se repiten mas de una vez\n",
        "for key,val in freq.items():\n",
        "  if (250>val>3):\n",
        "    eliminar.append(str(key))\n",
        "\n",
        "trigrama_limpio = []\n",
        "for i in trigrama:\n",
        "  if i in eliminar:\n",
        "    trigrama_limpio.append(i)\n",
        "\n",
        "freqnew = nltk.FreqDist(trigrama_limpio)\n",
        "freqnew.plot(20, cumulative=False, title = \"Trigrama\")"
      ],
      "execution_count": 13,
      "outputs": [
        {
          "output_type": "display_data",
          "data": {
            "image/png": "[encoded data removed]",
            "text/plain": [
              "<Figure size 432x288 with 1 Axes>"
            ]
          },
          "metadata": {
            "tags": [],
            "needs_background": "light"
          }
        }
      ]
    },
    {
      "cell_type": "code",
      "metadata": {
        "id": "m10I8zKloSLs",
        "colab_type": "code",
        "colab": {}
      },
      "source": [
        "from sklearn.feature_extraction.text import CountVectorizer\n",
        "\n",
        "vectorizer3 = CountVectorizer(analyzer='word', ngram_range=(3,3))"
      ],
      "execution_count": 0,
      "outputs": []
    },
    {
      "cell_type": "code",
      "metadata": {
        "id": "9fC6Ku9BpEn-",
        "colab_type": "code",
        "colab": {
          "base_uri": "https://localhost:8080/",
          "height": 51
        },
        "outputId": "1d6c26a1-a191-45dd-e513-ee1b5920ac2b"
      },
      "source": [
        "X = vectorizer3.fit_transform(trigrama_limpio[:10])\n",
        "X"
      ],
      "execution_count": 69,
      "outputs": [
        {
          "output_type": "execute_result",
          "data": {
            "text/plain": [
              "<10x6 sparse matrix of type '<class 'numpy.int64'>'\n",
              "\twith 7 stored elements in Compressed Sparse Row format>"
            ]
          },
          "metadata": {
            "tags": []
          },
          "execution_count": 69
        }
      ]
    },
    {
      "cell_type": "code",
      "metadata": {
        "id": "C4WaPm2ApUTJ",
        "colab_type": "code",
        "colab": {
          "base_uri": "https://localhost:8080/",
          "height": 119
        },
        "outputId": "2c3cb2a7-e16d-4e7d-bdf0-fbc0860722eb"
      },
      "source": [
        "F = vectorizer3.get_feature_names() #Array mapping from feature integer indices to feature name.\n",
        "vectorizer3.decode(F) #Decode the input into a string of unicode symbols."
      ],
      "execution_count": 70,
      "outputs": [
        {
          "output_type": "execute_result",
          "data": {
            "text/plain": [
              "['do you know',\n",
              " 'got that right',\n",
              " 'hey thanks for',\n",
              " 'thanks for your',\n",
              " 'you got that',\n",
              " 'you know where']"
            ]
          },
          "metadata": {
            "tags": []
          },
          "execution_count": 70
        }
      ]
    },
    {
      "cell_type": "code",
      "metadata": {
        "id": "hi52OEvRp_zc",
        "colab_type": "code",
        "colab": {
          "base_uri": "https://localhost:8080/",
          "height": 258
        },
        "outputId": "6d9dea24-649a-41e5-db2e-89258c39ec9f"
      },
      "source": [
        "print('Vocabulary:')\n",
        "print(vectorizer3.vocabulary_)\n",
        "print(\"arreglo\",X.toarray())\n",
        "print(\"longitud\",len(X.toarray()))"
      ],
      "execution_count": 71,
      "outputs": [
        {
          "output_type": "stream",
          "text": [
            "Vocabulary:\n",
            "{'do you know': 0, 'you know where': 5, 'hey thanks for': 2, 'thanks for your': 3, 'you got that': 4, 'got that right': 1}\n",
            "arreglo [[1 0 0 0 0 0]\n",
            " [0 0 0 0 0 1]\n",
            " [0 0 0 0 0 0]\n",
            " [0 0 0 0 0 0]\n",
            " [0 0 1 0 0 0]\n",
            " [0 0 0 1 0 0]\n",
            " [0 0 0 0 1 0]\n",
            " [0 1 0 0 0 0]\n",
            " [0 0 0 1 0 0]\n",
            " [0 0 0 0 0 0]]\n",
            "longitud 10\n"
          ],
          "name": "stdout"
        }
      ]
    },
    {
      "cell_type": "code",
      "metadata": {
        "id": "2s6KN8-qpzPh",
        "colab_type": "code",
        "colab": {
          "base_uri": "https://localhost:8080/",
          "height": 359
        },
        "outputId": "ac5d6499-e714-4d8d-ffed-bcb6aa60cda9"
      },
      "source": [
        "import pandas as pd\n",
        "pd.DataFrame(X.toarray(),columns=vectorizer3.get_feature_names())"
      ],
      "execution_count": 72,
      "outputs": [
        {
          "output_type": "execute_result",
          "data": {
            "text/html": [
              "<div>\n",
              "<style scoped>\n",
              "    .dataframe tbody tr th:only-of-type {\n",
              "        vertical-align: middle;\n",
              "    }\n",
              "\n",
              "    .dataframe tbody tr th {\n",
              "        vertical-align: top;\n",
              "    }\n",
              "\n",
              "    .dataframe thead th {\n",
              "        text-align: right;\n",
              "    }\n",
              "</style>\n",
              "<table border=\"1\" class=\"dataframe\">\n",
              "  <thead>\n",
              "    <tr style=\"text-align: right;\">\n",
              "      <th></th>\n",
              "      <th>do you know</th>\n",
              "      <th>got that right</th>\n",
              "      <th>hey thanks for</th>\n",
              "      <th>thanks for your</th>\n",
              "      <th>you got that</th>\n",
              "      <th>you know where</th>\n",
              "    </tr>\n",
              "  </thead>\n",
              "  <tbody>\n",
              "    <tr>\n",
              "      <th>0</th>\n",
              "      <td>1</td>\n",
              "      <td>0</td>\n",
              "      <td>0</td>\n",
              "      <td>0</td>\n",
              "      <td>0</td>\n",
              "      <td>0</td>\n",
              "    </tr>\n",
              "    <tr>\n",
              "      <th>1</th>\n",
              "      <td>0</td>\n",
              "      <td>0</td>\n",
              "      <td>0</td>\n",
              "      <td>0</td>\n",
              "      <td>0</td>\n",
              "      <td>1</td>\n",
              "    </tr>\n",
              "    <tr>\n",
              "      <th>2</th>\n",
              "      <td>0</td>\n",
              "      <td>0</td>\n",
              "      <td>0</td>\n",
              "      <td>0</td>\n",
              "      <td>0</td>\n",
              "      <td>0</td>\n",
              "    </tr>\n",
              "    <tr>\n",
              "      <th>3</th>\n",
              "      <td>0</td>\n",
              "      <td>0</td>\n",
              "      <td>0</td>\n",
              "      <td>0</td>\n",
              "      <td>0</td>\n",
              "      <td>0</td>\n",
              "    </tr>\n",
              "    <tr>\n",
              "      <th>4</th>\n",
              "      <td>0</td>\n",
              "      <td>0</td>\n",
              "      <td>1</td>\n",
              "      <td>0</td>\n",
              "      <td>0</td>\n",
              "      <td>0</td>\n",
              "    </tr>\n",
              "    <tr>\n",
              "      <th>5</th>\n",
              "      <td>0</td>\n",
              "      <td>0</td>\n",
              "      <td>0</td>\n",
              "      <td>1</td>\n",
              "      <td>0</td>\n",
              "      <td>0</td>\n",
              "    </tr>\n",
              "    <tr>\n",
              "      <th>6</th>\n",
              "      <td>0</td>\n",
              "      <td>0</td>\n",
              "      <td>0</td>\n",
              "      <td>0</td>\n",
              "      <td>1</td>\n",
              "      <td>0</td>\n",
              "    </tr>\n",
              "    <tr>\n",
              "      <th>7</th>\n",
              "      <td>0</td>\n",
              "      <td>1</td>\n",
              "      <td>0</td>\n",
              "      <td>0</td>\n",
              "      <td>0</td>\n",
              "      <td>0</td>\n",
              "    </tr>\n",
              "    <tr>\n",
              "      <th>8</th>\n",
              "      <td>0</td>\n",
              "      <td>0</td>\n",
              "      <td>0</td>\n",
              "      <td>1</td>\n",
              "      <td>0</td>\n",
              "      <td>0</td>\n",
              "    </tr>\n",
              "    <tr>\n",
              "      <th>9</th>\n",
              "      <td>0</td>\n",
              "      <td>0</td>\n",
              "      <td>0</td>\n",
              "      <td>0</td>\n",
              "      <td>0</td>\n",
              "      <td>0</td>\n",
              "    </tr>\n",
              "  </tbody>\n",
              "</table>\n",
              "</div>"
            ],
            "text/plain": [
              "   do you know  got that right  ...  you got that  you know where\n",
              "0            1               0  ...             0               0\n",
              "1            0               0  ...             0               1\n",
              "2            0               0  ...             0               0\n",
              "3            0               0  ...             0               0\n",
              "4            0               0  ...             0               0\n",
              "5            0               0  ...             0               0\n",
              "6            0               0  ...             1               0\n",
              "7            0               1  ...             0               0\n",
              "8            0               0  ...             0               0\n",
              "9            0               0  ...             0               0\n",
              "\n",
              "[10 rows x 6 columns]"
            ]
          },
          "metadata": {
            "tags": []
          },
          "execution_count": 72
        }
      ]
    },
    {
      "cell_type": "code",
      "metadata": {
        "id": "hBhHM3jmFop8",
        "colab_type": "code",
        "colab": {
          "base_uri": "https://localhost:8080/",
          "height": 71
        },
        "outputId": "b7c7064d-5fd6-4548-ceeb-b7757a188d4f"
      },
      "source": [
        "#función inversa\n",
        "print('To the source:')\n",
        "print(vectorizer3.inverse_transform(X.toarray()))"
      ],
      "execution_count": 73,
      "outputs": [
        {
          "output_type": "stream",
          "text": [
            "To the source:\n",
            "[array(['do you know'], dtype='<U15'), array(['you know where'], dtype='<U15'), array([], dtype='<U15'), array([], dtype='<U15'), array(['hey thanks for'], dtype='<U15'), array(['thanks for your'], dtype='<U15'), array(['you got that'], dtype='<U15'), array(['got that right'], dtype='<U15'), array(['thanks for your'], dtype='<U15'), array([], dtype='<U15')]\n"
          ],
          "name": "stdout"
        }
      ]
    },
    {
      "cell_type": "code",
      "metadata": {
        "id": "fp5LeAWTFt3t",
        "colab_type": "code",
        "colab": {}
      },
      "source": [
        ""
      ],
      "execution_count": 0,
      "outputs": []
    },
    {
      "cell_type": "markdown",
      "metadata": {
        "id": "M7jA-qXh2a9R",
        "colab_type": "text"
      },
      "source": [
        "# Tokenizer/n-gramas"
      ]
    },
    {
      "cell_type": "markdown",
      "metadata": {
        "id": "dG7WKhSx5eMA",
        "colab_type": "text"
      },
      "source": [
        "Tokenizer permite vectorizar un corpus de texto, convirtiendo cada texto en una secuencia de enteros (cada entero es el índice de un token en un diccionario)"
      ]
    },
    {
      "cell_type": "code",
      "metadata": {
        "id": "43rrGsgF55VE",
        "colab_type": "code",
        "outputId": "527b0be0-ed76-4a33-bc57-438bd0d25758",
        "colab": {
          "base_uri": "https://localhost:8080/",
          "height": 68
        }
      },
      "source": [
        "tokenizer=Tokenizer()\n",
        "tokenizer.fit_on_texts(train_sentences)\n",
        "total_words = len(tokenizer.word_index)+1\n",
        "# print('Dictionary:',tokenizer.word_index,'\\n')\n",
        "print(total_words)\n",
        "print('Total Words in the Tokenizer (+OOV) =',total_words,'\\n')"
      ],
      "execution_count": 14,
      "outputs": [
        {
          "output_type": "stream",
          "text": [
            "23121\n",
            "Total Words in the Tokenizer (+OOV) = 23121 \n",
            "\n"
          ],
          "name": "stdout"
        }
      ]
    },
    {
      "cell_type": "code",
      "metadata": {
        "id": "wpAKVIMW6R9J",
        "colab_type": "code",
        "outputId": "f7cbf62c-d5b4-4229-8598-11a0d688b8e1",
        "colab": {
          "base_uri": "https://localhost:8080/",
          "height": 221
        }
      },
      "source": [
        "print('train_sentences: \\n')\n",
        "train_sentences[0:10]"
      ],
      "execution_count": 15,
      "outputs": [
        {
          "output_type": "stream",
          "text": [
            "train_sentences: \n",
            "\n"
          ],
          "name": "stdout"
        },
        {
          "output_type": "execute_result",
          "data": {
            "text/plain": [
              "['wheres mr bergstrom',\n",
              " 'that life is worth living',\n",
              " 'victory party under the slide',\n",
              " 'mr bergstrom mr bergstrom',\n",
              " 'do you know where i could find him',\n",
              " 'the train how like him traditional yet environmentally sound',\n",
              " 'i see he touched you too',\n",
              " 'hey thanks for your vote man',\n",
              " 'well you got that right thanks for your vote girls',\n",
              " 'well dont sweat it just so long as a couple of people did right milhouse']"
            ]
          },
          "metadata": {
            "tags": []
          },
          "execution_count": 15
        }
      ]
    },
    {
      "cell_type": "code",
      "metadata": {
        "id": "agN8Nuru6aXJ",
        "colab_type": "code",
        "outputId": "05dd4273-5f40-4423-86b6-3eaa4687d4ab",
        "colab": {
          "base_uri": "https://localhost:8080/",
          "height": 102
        }
      },
      "source": [
        "print(tokenizer.word_index['where'])\n",
        "print(tokenizer.word_index['living'])\n",
        "print(tokenizer.word_index['girls'])\n",
        "print(tokenizer.word_index['people'])\n",
        "print(tokenizer.word_index['thanks'])"
      ],
      "execution_count": 16,
      "outputs": [
        {
          "output_type": "stream",
          "text": [
            "122\n",
            "581\n",
            "517\n",
            "130\n",
            "204\n"
          ],
          "name": "stdout"
        }
      ]
    },
    {
      "cell_type": "code",
      "metadata": {
        "id": "hH-UU5h56nqe",
        "colab_type": "code",
        "outputId": "6ee9689a-f172-4278-84b4-3d0d9315d310",
        "colab": {
          "base_uri": "https://localhost:8080/",
          "height": 357
        }
      },
      "source": [
        "# El corpus se toma del train_sentence \n",
        "\n",
        "test_seq = []\n",
        "\n",
        "# Primera línea en el corpus \n",
        "print('First Line = ',train_sentences[3],'\\n')\n",
        "\n",
        "# Transforma la primera línea del train_sentences en secuencias deacuerdo con el diccionario\n",
        "\n",
        "token_test=tokenizer.texts_to_sequences([train_sentences[3]])[0]\n",
        "print('First Line into Sequence =',token_test,'\\n')\n",
        "\n",
        "# Crea fragmentos de la línea y crea los datos por piezas ordenadas\n",
        "for j in range(1, len(token_test)):\n",
        "  # Iterador sobre los elementos de la línea.\n",
        "  n_gram_test=token_test[:j+1]\n",
        "  print('n-gram =',n_gram_test)\n",
        "  # Añade todos los resultados secuenciales\n",
        "  test_seq.append(n_gram_test)\n",
        "  print('sequence = ',test_seq,'\\n')\n",
        "\n",
        "# Determina el n-grama más extenso\n",
        "max_seq_test_len = max([len(x) for x in test_seq])\n",
        "# Relleno\n",
        "test_seq = np.array(pad_sequences(test_seq, maxlen=max_seq_test_len, padding='pre'))\n",
        "print(\"Final n-gram Data:\\n\\n\",  test_seq,'\\n')\n",
        "print('Shape of Data: ',np.shape(test_seq))"
      ],
      "execution_count": 17,
      "outputs": [
        {
          "output_type": "stream",
          "text": [
            "First Line =  mr bergstrom mr bergstrom \n",
            "\n",
            "First Line into Sequence = [143, 3442, 143, 3442] \n",
            "\n",
            "n-gram = [143, 3442]\n",
            "sequence =  [[143, 3442]] \n",
            "\n",
            "n-gram = [143, 3442, 143]\n",
            "sequence =  [[143, 3442], [143, 3442, 143]] \n",
            "\n",
            "n-gram = [143, 3442, 143, 3442]\n",
            "sequence =  [[143, 3442], [143, 3442, 143], [143, 3442, 143, 3442]] \n",
            "\n",
            "Final n-gram Data:\n",
            "\n",
            " [[   0    0  143 3442]\n",
            " [   0  143 3442  143]\n",
            " [ 143 3442  143 3442]] \n",
            "\n",
            "Shape of Data:  (3, 4)\n"
          ],
          "name": "stdout"
        }
      ]
    },
    {
      "cell_type": "markdown",
      "metadata": {
        "id": "b7Un8Lnw2th5",
        "colab_type": "text"
      },
      "source": [
        "### Grupo de  Entrenamiento"
      ]
    },
    {
      "cell_type": "code",
      "metadata": {
        "id": "eQt5Myfk1nfA",
        "colab_type": "code",
        "colab": {}
      },
      "source": [
        "# Crear la secuencia de texto para crear datos de entrenamiento\n",
        "\n",
        "input_sequences_train = []\n",
        "train_labels_ng =[]\n",
        "for (line,j) in zip(train_sentences,range(1, len(train_sentences))):\n",
        "  lab = train_labels[j]\n",
        "  token_list = tokenizer.texts_to_sequences([line])[0]\n",
        "  for i in range(1, len(token_list)):\n",
        "    n_gram_sequence = token_list[:i+1]\n",
        "    input_sequences_train.append(n_gram_sequence)\n",
        "    train_labels_ng.append(lab)"
      ],
      "execution_count": 0,
      "outputs": []
    },
    {
      "cell_type": "code",
      "metadata": {
        "id": "NgDUOoaeAPXX",
        "colab_type": "code",
        "outputId": "83f81345-1850-4fc8-df7f-6730a55e7a9c",
        "colab": {
          "base_uri": "https://localhost:8080/",
          "height": 51
        }
      },
      "source": [
        "print(len(input_sequences_train))\n",
        "print(len(train_labels_ng))"
      ],
      "execution_count": 19,
      "outputs": [
        {
          "output_type": "stream",
          "text": [
            "425898\n",
            "425898\n"
          ],
          "name": "stdout"
        }
      ]
    },
    {
      "cell_type": "code",
      "metadata": {
        "id": "CR91V4VcBx8j",
        "colab_type": "code",
        "outputId": "c9698ba3-203f-418d-c428-5f909160b2e8",
        "colab": {
          "base_uri": "https://localhost:8080/",
          "height": 34
        }
      },
      "source": [
        "# Relleno\n",
        "\n",
        "max_sequence_len_tran = max([len(x) for x in input_sequences_train])\n",
        "input_sequences_train = np.array(pad_sequences(input_sequences_train, maxlen=max_sequence_len_tran, padding='pre'))\n",
        "\n",
        "# Cree predictores y etiquetas (las etiquetas son la palabra final de cada secuencia. Ex: Datos: wheres mr bergstrom, Personaje: )\n",
        "\n",
        "train_sentences_ngrams = input_sequences_train\n",
        "print(len(train_sentences_ngrams))"
      ],
      "execution_count": 20,
      "outputs": [
        {
          "output_type": "stream",
          "text": [
            "425898\n"
          ],
          "name": "stdout"
        }
      ]
    },
    {
      "cell_type": "code",
      "metadata": {
        "id": "hHZdvPIHZ-p9",
        "colab_type": "code",
        "outputId": "09a1ab04-3bb0-4c30-db4e-4567fdf127c6",
        "colab": {
          "base_uri": "https://localhost:8080/",
          "height": 34
        }
      },
      "source": [
        "np.shape(train_sentences_ngrams)"
      ],
      "execution_count": 21,
      "outputs": [
        {
          "output_type": "execute_result",
          "data": {
            "text/plain": [
              "(425898, 111)"
            ]
          },
          "metadata": {
            "tags": []
          },
          "execution_count": 21
        }
      ]
    },
    {
      "cell_type": "code",
      "metadata": {
        "id": "fJgRbKE1OIkU",
        "colab_type": "code",
        "outputId": "e381e967-4a3b-4b28-c2bc-7d6e0911bc95",
        "colab": {
          "base_uri": "https://localhost:8080/",
          "height": 34
        }
      },
      "source": [
        "label_size = 4\n",
        "label_tokenizer = Tokenizer(num_words = label_size,oov_token=oov_tok, filters = '')\n",
        "label_tokenizer.fit_on_texts(train_labels_ng)\n",
        "label_seq = np.array(label_tokenizer.texts_to_sequences(train_labels_ng))\n",
        "training_label_seq = np.array(label_tokenizer.texts_to_sequences(train_labels_ng))\n",
        "\n",
        "# flatten the nested list and tranaform to an np array\n",
        "label_seq = np.array([item for items in label_seq for item in items])\n",
        "training_label_seq = np.array([item for items in training_label_seq for item in items])\n",
        "training_label_seq\n",
        "print(len(training_label_seq))"
      ],
      "execution_count": 22,
      "outputs": [
        {
          "output_type": "stream",
          "text": [
            "425898\n"
          ],
          "name": "stdout"
        }
      ]
    },
    {
      "cell_type": "code",
      "metadata": {
        "id": "TXj17DMDOf_8",
        "colab_type": "code",
        "colab": {}
      },
      "source": [
        "#preprocessing.LabelEncoder()\n",
        "encoder = LabelEncoder()\n",
        "\n",
        "encoder.fit(label_seq)\n",
        "train_labels_ngrams = encoder.transform(training_label_seq)\n",
        "num_classes = label_size"
      ],
      "execution_count": 0,
      "outputs": []
    },
    {
      "cell_type": "code",
      "metadata": {
        "id": "ynKVnhnOPAkH",
        "colab_type": "code",
        "colab": {}
      },
      "source": [
        "# Codificación One-Hot \n",
        "train_labels_ngrams_codf = tf.keras.utils.to_categorical(train_labels_ngrams, num_classes)"
      ],
      "execution_count": 0,
      "outputs": []
    },
    {
      "cell_type": "code",
      "metadata": {
        "id": "2oW3nKglPRZ8",
        "colab_type": "code",
        "outputId": "e49b5bd6-6ee8-4c76-f880-af88f6768a95",
        "colab": {
          "base_uri": "https://localhost:8080/",
          "height": 136
        }
      },
      "source": [
        "print(input_sequences_train)"
      ],
      "execution_count": 25,
      "outputs": [
        {
          "output_type": "stream",
          "text": [
            "[[   0    0    0 ...    0  369  143]\n",
            " [   0    0    0 ...  369  143 3442]\n",
            " [   0    0    0 ...    0    9  155]\n",
            " ...\n",
            " [   0    0    0 ...    2    4 3730]\n",
            " [   0    0    0 ...    4 3730   26]\n",
            " [   0    0    0 ... 3730   26  415]]\n"
          ],
          "name": "stdout"
        }
      ]
    },
    {
      "cell_type": "code",
      "metadata": {
        "id": "0I_CfBQOS2Sm",
        "colab_type": "code",
        "outputId": "1ce89cff-769f-48be-cd2f-df8d5735e3b8",
        "colab": {
          "base_uri": "https://localhost:8080/",
          "height": 34
        }
      },
      "source": [
        "len(train_labels_ngrams_codf)"
      ],
      "execution_count": 26,
      "outputs": [
        {
          "output_type": "execute_result",
          "data": {
            "text/plain": [
              "425898"
            ]
          },
          "metadata": {
            "tags": []
          },
          "execution_count": 26
        }
      ]
    },
    {
      "cell_type": "markdown",
      "metadata": {
        "id": "Ps043ZX65kXS",
        "colab_type": "text"
      },
      "source": [
        "#### Grupo de Validacion "
      ]
    },
    {
      "cell_type": "code",
      "metadata": {
        "id": "IFQbBQfkAJyr",
        "colab_type": "code",
        "colab": {}
      },
      "source": [
        "# Crear la secuencia de texto para crear datos de validacion\n",
        "\n",
        "input_sequences_vt = []\n",
        "validation_labels_ng =[]\n",
        "for (line,j) in zip(validation_labels,range(1, len(validation_sentences))):\n",
        "  lab = validation_labels[j]\n",
        "  token_list = tokenizer.texts_to_sequences([line])[0]\n",
        "  for i in range(1, len(token_list)):\n",
        "    n_gram_sequence = token_list[:i+1]\n",
        "    input_sequences_vt.append(n_gram_sequence)\n",
        "    validation_labels_ng.append(lab)"
      ],
      "execution_count": 0,
      "outputs": []
    },
    {
      "cell_type": "code",
      "metadata": {
        "id": "_CmxT6rUilHJ",
        "colab_type": "code",
        "outputId": "900d73f9-84cf-4897-8063-1b56e5a374e3",
        "colab": {
          "base_uri": "https://localhost:8080/",
          "height": 34
        }
      },
      "source": [
        "len(validation_sentences)"
      ],
      "execution_count": 28,
      "outputs": [
        {
          "output_type": "execute_result",
          "data": {
            "text/plain": [
              "13835"
            ]
          },
          "metadata": {
            "tags": []
          },
          "execution_count": 28
        }
      ]
    },
    {
      "cell_type": "code",
      "metadata": {
        "id": "Z-K170peBnri",
        "colab_type": "code",
        "outputId": "674bbcd0-6c8a-4763-95d0-7d7b92faca0e",
        "colab": {
          "base_uri": "https://localhost:8080/",
          "height": 51
        }
      },
      "source": [
        "print(len(input_sequences_vt))\n",
        "print(len(validation_labels_ng))"
      ],
      "execution_count": 29,
      "outputs": [
        {
          "output_type": "stream",
          "text": [
            "13834\n",
            "13834\n"
          ],
          "name": "stdout"
        }
      ]
    },
    {
      "cell_type": "code",
      "metadata": {
        "id": "aFch__feMD5V",
        "colab_type": "code",
        "outputId": "3ef667dc-bde8-468e-d8e1-40a87751285f",
        "colab": {
          "base_uri": "https://localhost:8080/",
          "height": 34
        }
      },
      "source": [
        "# Relleno\n",
        "\n",
        "max_sequence_len_vt = max([len(x) for x in input_sequences_vt])\n",
        "input_sequences_vt = np.array(pad_sequences(input_sequences_vt, maxlen=max_sequence_len_vt, padding='pre'))\n",
        "\n",
        "validation_sentences_ngrams = input_sequences_vt\n",
        "print(len(validation_sentences_ngrams))"
      ],
      "execution_count": 30,
      "outputs": [
        {
          "output_type": "stream",
          "text": [
            "13834\n"
          ],
          "name": "stdout"
        }
      ]
    },
    {
      "cell_type": "code",
      "metadata": {
        "id": "MzZhUo3WYySZ",
        "colab_type": "code",
        "outputId": "0f40bb3e-39bd-4b67-9589-3243cbc2d918",
        "colab": {
          "base_uri": "https://localhost:8080/",
          "height": 34
        }
      },
      "source": [
        "np.shape(validation_sentences_ngrams)"
      ],
      "execution_count": 31,
      "outputs": [
        {
          "output_type": "execute_result",
          "data": {
            "text/plain": [
              "(13834, 2)"
            ]
          },
          "metadata": {
            "tags": []
          },
          "execution_count": 31
        }
      ]
    },
    {
      "cell_type": "code",
      "metadata": {
        "id": "W-1pVv6SMqUk",
        "colab_type": "code",
        "outputId": "cd280062-98d1-4c9f-d909-a4c39f797b1f",
        "colab": {
          "base_uri": "https://localhost:8080/",
          "height": 34
        }
      },
      "source": [
        "label_size = 4\n",
        "label_tokenizer = Tokenizer(num_words = label_size,oov_token=oov_tok, filters = '')\n",
        "label_tokenizer.fit_on_texts(validation_labels_ng)\n",
        "label_seq = np.array(label_tokenizer.texts_to_sequences(validation_labels_ng))\n",
        "validation_label_seq = np.array(label_tokenizer.texts_to_sequences(validation_labels_ng))\n",
        "\n",
        "# flatten the nested list and tranaform to an np array\n",
        "label_seq = np.array([item for items in label_seq for item in items])\n",
        "validation_label_seq = np.array([item for items in validation_label_seq for item in items])\n",
        "validation_label_seq\n",
        "print(len(validation_label_seq))"
      ],
      "execution_count": 32,
      "outputs": [
        {
          "output_type": "stream",
          "text": [
            "13834\n"
          ],
          "name": "stdout"
        }
      ]
    },
    {
      "cell_type": "code",
      "metadata": {
        "id": "__aVt_doQ7AV",
        "colab_type": "code",
        "colab": {}
      },
      "source": [
        "#preprocessing.LabelEncoder()\n",
        "encoder = LabelEncoder()\n",
        "\n",
        "encoder.fit(label_seq)\n",
        "validation_labels_ngrams = encoder.transform(validation_label_seq)\n",
        "num_classes = 4"
      ],
      "execution_count": 0,
      "outputs": []
    },
    {
      "cell_type": "code",
      "metadata": {
        "id": "Ff6QM8gqSIA4",
        "colab_type": "code",
        "colab": {}
      },
      "source": [
        "# Codificación One-Hot \n",
        "validation_labels_ngrams_codf = tf.keras.utils.to_categorical(validation_labels_ngrams, num_classes)"
      ],
      "execution_count": 0,
      "outputs": []
    },
    {
      "cell_type": "code",
      "metadata": {
        "id": "4FPVF5kASg3h",
        "colab_type": "code",
        "outputId": "10031811-e6d4-4047-844a-fb221d01caf1",
        "colab": {
          "base_uri": "https://localhost:8080/",
          "height": 136
        }
      },
      "source": [
        "print(input_sequences_vt)"
      ],
      "execution_count": 35,
      "outputs": [
        {
          "output_type": "stream",
          "text": [
            "[[ 58 194]\n",
            " [ 58 194]\n",
            " [ 58 194]\n",
            " ...\n",
            " [ 81 194]\n",
            " [ 56 194]\n",
            " [ 81 194]]\n"
          ],
          "name": "stdout"
        }
      ]
    },
    {
      "cell_type": "code",
      "metadata": {
        "id": "e75A24MySnRs",
        "colab_type": "code",
        "outputId": "7cb5beef-2b9e-4048-aa4b-d9884f4275e5",
        "colab": {
          "base_uri": "https://localhost:8080/",
          "height": 34
        }
      },
      "source": [
        "len(validation_labels_ngrams_codf)"
      ],
      "execution_count": 36,
      "outputs": [
        {
          "output_type": "execute_result",
          "data": {
            "text/plain": [
              "13834"
            ]
          },
          "metadata": {
            "tags": []
          },
          "execution_count": 36
        }
      ]
    },
    {
      "cell_type": "markdown",
      "metadata": {
        "id": "Q3FKjA0CTfPV",
        "colab_type": "text"
      },
      "source": [
        "# Construccion del Modelo"
      ]
    },
    {
      "cell_type": "code",
      "metadata": {
        "id": "CS0SdbzgTh_8",
        "colab_type": "code",
        "outputId": "4c3f9325-3d2d-47e5-e3b3-925b744427c2",
        "colab": {
          "base_uri": "https://localhost:8080/",
          "height": 85
        }
      },
      "source": [
        "print(len(train_labels_ngrams_codf))\n",
        "print(len(train_sentences_ngrams))\n",
        "print(len(validation_labels_ngrams_codf))\n",
        "print(len(validation_sentences_ngrams))"
      ],
      "execution_count": 37,
      "outputs": [
        {
          "output_type": "stream",
          "text": [
            "425898\n",
            "425898\n",
            "13834\n",
            "13834\n"
          ],
          "name": "stdout"
        }
      ]
    },
    {
      "cell_type": "code",
      "metadata": {
        "id": "Zf_uFWIKT-pn",
        "colab_type": "code",
        "outputId": "217cc277-d444-41ca-8dec-23d222929722",
        "colab": {
          "base_uri": "https://localhost:8080/",
          "height": 289
        }
      },
      "source": [
        "model = tf.keras.Sequential([\n",
        "                             \n",
        "    tf.keras.layers.Embedding(vocab_size, embedding_dim, input_length=max_length),\n",
        "    tf.keras.layers.GlobalAveragePooling1D(),\n",
        "    tf.keras.layers.Dense(128, activation='relu'),\n",
        "    tf.keras.layers.Dense(4, activation='softmax')\n",
        "])\n",
        "model.compile(loss='categorical_crossentropy',optimizer='adam',metrics=['accuracy'])\n",
        "model.summary()"
      ],
      "execution_count": 38,
      "outputs": [
        {
          "output_type": "stream",
          "text": [
            "Model: \"sequential\"\n",
            "_________________________________________________________________\n",
            "Layer (type)                 Output Shape              Param #   \n",
            "=================================================================\n",
            "embedding (Embedding)        (None, 111, 32)           739872    \n",
            "_________________________________________________________________\n",
            "global_average_pooling1d (Gl (None, 32)                0         \n",
            "_________________________________________________________________\n",
            "dense (Dense)                (None, 128)               4224      \n",
            "_________________________________________________________________\n",
            "dense_1 (Dense)              (None, 4)                 516       \n",
            "=================================================================\n",
            "Total params: 744,612\n",
            "Trainable params: 744,612\n",
            "Non-trainable params: 0\n",
            "_________________________________________________________________\n"
          ],
          "name": "stdout"
        }
      ]
    },
    {
      "cell_type": "markdown",
      "metadata": {
        "id": "MOU3hgTnUjqg",
        "colab_type": "text"
      },
      "source": [
        "# Entrenamiento del modelo"
      ]
    },
    {
      "cell_type": "code",
      "metadata": {
        "id": "NNugayIpUhLE",
        "colab_type": "code",
        "outputId": "dfd58a6f-2cad-4c10-f5f9-46d368684c16",
        "colab": {
          "base_uri": "https://localhost:8080/",
          "height": 429
        }
      },
      "source": [
        "num_epochs = 40\n",
        "history = model.fit(train_sentences_ngrams, train_labels_ngrams_codf, epochs=num_epochs, validation_data=(validation_sentences_ngrams,validation_labels_ngrams_codf), verbose=True)"
      ],
      "execution_count": 39,
      "outputs": [
        {
          "output_type": "stream",
          "text": [
            "Epoch 1/40\n",
            "13309/13310 [============================>.] - ETA: 0s - loss: 0.9238 - accuracy: 0.5457WARNING:tensorflow:Model was constructed with shape (None, 111) for input Tensor(\"embedding_input:0\", shape=(None, 111), dtype=float32), but it was called on an input with incompatible shape (None, 2).\n",
            "13310/13310 [==============================] - 108s 8ms/step - loss: 0.9238 - accuracy: 0.5456 - val_loss: 25.3780 - val_accuracy: 0.4799\n",
            "Epoch 2/40\n",
            " 4333/13310 [========>.....................] - ETA: 1:14 - loss: 0.7881 - accuracy: 0.6296"
          ],
          "name": "stdout"
        },
        {
          "output_type": "error",
          "ename": "KeyboardInterrupt",
          "evalue": "ignored",
          "traceback": [
            "\u001b[0;31m---------------------------------------------------------------------------\u001b[0m",
            "\u001b[0;31mKeyboardInterrupt\u001b[0m                         Traceback (most recent call last)",
            "\u001b[0;32m<ipython-input-39-24459600681d>\u001b[0m in \u001b[0;36m<module>\u001b[0;34m()\u001b[0m\n\u001b[1;32m      1\u001b[0m \u001b[0mnum_epochs\u001b[0m \u001b[0;34m=\u001b[0m \u001b[0;36m40\u001b[0m\u001b[0;34m\u001b[0m\u001b[0;34m\u001b[0m\u001b[0m\n\u001b[0;32m----> 2\u001b[0;31m \u001b[0mhistory\u001b[0m \u001b[0;34m=\u001b[0m \u001b[0mmodel\u001b[0m\u001b[0;34m.\u001b[0m\u001b[0mfit\u001b[0m\u001b[0;34m(\u001b[0m\u001b[0mtrain_sentences_ngrams\u001b[0m\u001b[0;34m,\u001b[0m \u001b[0mtrain_labels_ngrams_codf\u001b[0m\u001b[0;34m,\u001b[0m \u001b[0mepochs\u001b[0m\u001b[0;34m=\u001b[0m\u001b[0mnum_epochs\u001b[0m\u001b[0;34m,\u001b[0m \u001b[0mvalidation_data\u001b[0m\u001b[0;34m=\u001b[0m\u001b[0;34m(\u001b[0m\u001b[0mvalidation_sentences_ngrams\u001b[0m\u001b[0;34m,\u001b[0m\u001b[0mvalidation_labels_ngrams_codf\u001b[0m\u001b[0;34m)\u001b[0m\u001b[0;34m,\u001b[0m \u001b[0mverbose\u001b[0m\u001b[0;34m=\u001b[0m\u001b[0;32mTrue\u001b[0m\u001b[0;34m)\u001b[0m\u001b[0;34m\u001b[0m\u001b[0;34m\u001b[0m\u001b[0m\n\u001b[0m",
            "\u001b[0;32m/usr/local/lib/python3.6/dist-packages/tensorflow/python/keras/engine/training.py\u001b[0m in \u001b[0;36m_method_wrapper\u001b[0;34m(self, *args, **kwargs)\u001b[0m\n\u001b[1;32m     64\u001b[0m   \u001b[0;32mdef\u001b[0m \u001b[0m_method_wrapper\u001b[0m\u001b[0;34m(\u001b[0m\u001b[0mself\u001b[0m\u001b[0;34m,\u001b[0m \u001b[0;34m*\u001b[0m\u001b[0margs\u001b[0m\u001b[0;34m,\u001b[0m \u001b[0;34m**\u001b[0m\u001b[0mkwargs\u001b[0m\u001b[0;34m)\u001b[0m\u001b[0;34m:\u001b[0m\u001b[0;34m\u001b[0m\u001b[0;34m\u001b[0m\u001b[0m\n\u001b[1;32m     65\u001b[0m     \u001b[0;32mif\u001b[0m \u001b[0;32mnot\u001b[0m \u001b[0mself\u001b[0m\u001b[0;34m.\u001b[0m\u001b[0m_in_multi_worker_mode\u001b[0m\u001b[0;34m(\u001b[0m\u001b[0;34m)\u001b[0m\u001b[0;34m:\u001b[0m  \u001b[0;31m# pylint: disable=protected-access\u001b[0m\u001b[0;34m\u001b[0m\u001b[0;34m\u001b[0m\u001b[0m\n\u001b[0;32m---> 66\u001b[0;31m       \u001b[0;32mreturn\u001b[0m \u001b[0mmethod\u001b[0m\u001b[0;34m(\u001b[0m\u001b[0mself\u001b[0m\u001b[0;34m,\u001b[0m \u001b[0;34m*\u001b[0m\u001b[0margs\u001b[0m\u001b[0;34m,\u001b[0m \u001b[0;34m**\u001b[0m\u001b[0mkwargs\u001b[0m\u001b[0;34m)\u001b[0m\u001b[0;34m\u001b[0m\u001b[0;34m\u001b[0m\u001b[0m\n\u001b[0m\u001b[1;32m     67\u001b[0m \u001b[0;34m\u001b[0m\u001b[0m\n\u001b[1;32m     68\u001b[0m     \u001b[0;31m# Running inside `run_distribute_coordinator` already.\u001b[0m\u001b[0;34m\u001b[0m\u001b[0;34m\u001b[0m\u001b[0;34m\u001b[0m\u001b[0m\n",
            "\u001b[0;32m/usr/local/lib/python3.6/dist-packages/tensorflow/python/keras/engine/training.py\u001b[0m in \u001b[0;36mfit\u001b[0;34m(self, x, y, batch_size, epochs, verbose, callbacks, validation_split, validation_data, shuffle, class_weight, sample_weight, initial_epoch, steps_per_epoch, validation_steps, validation_batch_size, validation_freq, max_queue_size, workers, use_multiprocessing)\u001b[0m\n\u001b[1;32m    846\u001b[0m                 batch_size=batch_size):\n\u001b[1;32m    847\u001b[0m               \u001b[0mcallbacks\u001b[0m\u001b[0;34m.\u001b[0m\u001b[0mon_train_batch_begin\u001b[0m\u001b[0;34m(\u001b[0m\u001b[0mstep\u001b[0m\u001b[0;34m)\u001b[0m\u001b[0;34m\u001b[0m\u001b[0;34m\u001b[0m\u001b[0m\n\u001b[0;32m--> 848\u001b[0;31m               \u001b[0mtmp_logs\u001b[0m \u001b[0;34m=\u001b[0m \u001b[0mtrain_function\u001b[0m\u001b[0;34m(\u001b[0m\u001b[0miterator\u001b[0m\u001b[0;34m)\u001b[0m\u001b[0;34m\u001b[0m\u001b[0;34m\u001b[0m\u001b[0m\n\u001b[0m\u001b[1;32m    849\u001b[0m               \u001b[0;31m# Catch OutOfRangeError for Datasets of unknown size.\u001b[0m\u001b[0;34m\u001b[0m\u001b[0;34m\u001b[0m\u001b[0;34m\u001b[0m\u001b[0m\n\u001b[1;32m    850\u001b[0m               \u001b[0;31m# This blocks until the batch has finished executing.\u001b[0m\u001b[0;34m\u001b[0m\u001b[0;34m\u001b[0m\u001b[0;34m\u001b[0m\u001b[0m\n",
            "\u001b[0;32m/usr/local/lib/python3.6/dist-packages/tensorflow/python/eager/def_function.py\u001b[0m in \u001b[0;36m__call__\u001b[0;34m(self, *args, **kwds)\u001b[0m\n\u001b[1;32m    578\u001b[0m         \u001b[0mxla_context\u001b[0m\u001b[0;34m.\u001b[0m\u001b[0mExit\u001b[0m\u001b[0;34m(\u001b[0m\u001b[0;34m)\u001b[0m\u001b[0;34m\u001b[0m\u001b[0;34m\u001b[0m\u001b[0m\n\u001b[1;32m    579\u001b[0m     \u001b[0;32melse\u001b[0m\u001b[0;34m:\u001b[0m\u001b[0;34m\u001b[0m\u001b[0;34m\u001b[0m\u001b[0m\n\u001b[0;32m--> 580\u001b[0;31m       \u001b[0mresult\u001b[0m \u001b[0;34m=\u001b[0m \u001b[0mself\u001b[0m\u001b[0;34m.\u001b[0m\u001b[0m_call\u001b[0m\u001b[0;34m(\u001b[0m\u001b[0;34m*\u001b[0m\u001b[0margs\u001b[0m\u001b[0;34m,\u001b[0m \u001b[0;34m**\u001b[0m\u001b[0mkwds\u001b[0m\u001b[0;34m)\u001b[0m\u001b[0;34m\u001b[0m\u001b[0;34m\u001b[0m\u001b[0m\n\u001b[0m\u001b[1;32m    581\u001b[0m \u001b[0;34m\u001b[0m\u001b[0m\n\u001b[1;32m    582\u001b[0m     \u001b[0;32mif\u001b[0m \u001b[0mtracing_count\u001b[0m \u001b[0;34m==\u001b[0m \u001b[0mself\u001b[0m\u001b[0;34m.\u001b[0m\u001b[0m_get_tracing_count\u001b[0m\u001b[0;34m(\u001b[0m\u001b[0;34m)\u001b[0m\u001b[0;34m:\u001b[0m\u001b[0;34m\u001b[0m\u001b[0;34m\u001b[0m\u001b[0m\n",
            "\u001b[0;32m/usr/local/lib/python3.6/dist-packages/tensorflow/python/eager/def_function.py\u001b[0m in \u001b[0;36m_call\u001b[0;34m(self, *args, **kwds)\u001b[0m\n\u001b[1;32m    609\u001b[0m       \u001b[0;31m# In this case we have created variables on the first call, so we run the\u001b[0m\u001b[0;34m\u001b[0m\u001b[0;34m\u001b[0m\u001b[0;34m\u001b[0m\u001b[0m\n\u001b[1;32m    610\u001b[0m       \u001b[0;31m# defunned version which is guaranteed to never create variables.\u001b[0m\u001b[0;34m\u001b[0m\u001b[0;34m\u001b[0m\u001b[0;34m\u001b[0m\u001b[0m\n\u001b[0;32m--> 611\u001b[0;31m       \u001b[0;32mreturn\u001b[0m \u001b[0mself\u001b[0m\u001b[0;34m.\u001b[0m\u001b[0m_stateless_fn\u001b[0m\u001b[0;34m(\u001b[0m\u001b[0;34m*\u001b[0m\u001b[0margs\u001b[0m\u001b[0;34m,\u001b[0m \u001b[0;34m**\u001b[0m\u001b[0mkwds\u001b[0m\u001b[0;34m)\u001b[0m  \u001b[0;31m# pylint: disable=not-callable\u001b[0m\u001b[0;34m\u001b[0m\u001b[0;34m\u001b[0m\u001b[0m\n\u001b[0m\u001b[1;32m    612\u001b[0m     \u001b[0;32melif\u001b[0m \u001b[0mself\u001b[0m\u001b[0;34m.\u001b[0m\u001b[0m_stateful_fn\u001b[0m \u001b[0;32mis\u001b[0m \u001b[0;32mnot\u001b[0m \u001b[0;32mNone\u001b[0m\u001b[0;34m:\u001b[0m\u001b[0;34m\u001b[0m\u001b[0;34m\u001b[0m\u001b[0m\n\u001b[1;32m    613\u001b[0m       \u001b[0;31m# Release the lock early so that multiple threads can perform the call\u001b[0m\u001b[0;34m\u001b[0m\u001b[0;34m\u001b[0m\u001b[0;34m\u001b[0m\u001b[0m\n",
            "\u001b[0;32m/usr/local/lib/python3.6/dist-packages/tensorflow/python/eager/function.py\u001b[0m in \u001b[0;36m__call__\u001b[0;34m(self, *args, **kwargs)\u001b[0m\n\u001b[1;32m   2418\u001b[0m     \u001b[0;32mwith\u001b[0m \u001b[0mself\u001b[0m\u001b[0;34m.\u001b[0m\u001b[0m_lock\u001b[0m\u001b[0;34m:\u001b[0m\u001b[0;34m\u001b[0m\u001b[0;34m\u001b[0m\u001b[0m\n\u001b[1;32m   2419\u001b[0m       \u001b[0mgraph_function\u001b[0m\u001b[0;34m,\u001b[0m \u001b[0margs\u001b[0m\u001b[0;34m,\u001b[0m \u001b[0mkwargs\u001b[0m \u001b[0;34m=\u001b[0m \u001b[0mself\u001b[0m\u001b[0;34m.\u001b[0m\u001b[0m_maybe_define_function\u001b[0m\u001b[0;34m(\u001b[0m\u001b[0margs\u001b[0m\u001b[0;34m,\u001b[0m \u001b[0mkwargs\u001b[0m\u001b[0;34m)\u001b[0m\u001b[0;34m\u001b[0m\u001b[0;34m\u001b[0m\u001b[0m\n\u001b[0;32m-> 2420\u001b[0;31m     \u001b[0;32mreturn\u001b[0m \u001b[0mgraph_function\u001b[0m\u001b[0;34m.\u001b[0m\u001b[0m_filtered_call\u001b[0m\u001b[0;34m(\u001b[0m\u001b[0margs\u001b[0m\u001b[0;34m,\u001b[0m \u001b[0mkwargs\u001b[0m\u001b[0;34m)\u001b[0m  \u001b[0;31m# pylint: disable=protected-access\u001b[0m\u001b[0;34m\u001b[0m\u001b[0;34m\u001b[0m\u001b[0m\n\u001b[0m\u001b[1;32m   2421\u001b[0m \u001b[0;34m\u001b[0m\u001b[0m\n\u001b[1;32m   2422\u001b[0m   \u001b[0;34m@\u001b[0m\u001b[0mproperty\u001b[0m\u001b[0;34m\u001b[0m\u001b[0;34m\u001b[0m\u001b[0m\n",
            "\u001b[0;32m/usr/local/lib/python3.6/dist-packages/tensorflow/python/eager/function.py\u001b[0m in \u001b[0;36m_filtered_call\u001b[0;34m(self, args, kwargs)\u001b[0m\n\u001b[1;32m   1663\u001b[0m          if isinstance(t, (ops.Tensor,\n\u001b[1;32m   1664\u001b[0m                            resource_variable_ops.BaseResourceVariable))),\n\u001b[0;32m-> 1665\u001b[0;31m         self.captured_inputs)\n\u001b[0m\u001b[1;32m   1666\u001b[0m \u001b[0;34m\u001b[0m\u001b[0m\n\u001b[1;32m   1667\u001b[0m   \u001b[0;32mdef\u001b[0m \u001b[0m_call_flat\u001b[0m\u001b[0;34m(\u001b[0m\u001b[0mself\u001b[0m\u001b[0;34m,\u001b[0m \u001b[0margs\u001b[0m\u001b[0;34m,\u001b[0m \u001b[0mcaptured_inputs\u001b[0m\u001b[0;34m,\u001b[0m \u001b[0mcancellation_manager\u001b[0m\u001b[0;34m=\u001b[0m\u001b[0;32mNone\u001b[0m\u001b[0;34m)\u001b[0m\u001b[0;34m:\u001b[0m\u001b[0;34m\u001b[0m\u001b[0;34m\u001b[0m\u001b[0m\n",
            "\u001b[0;32m/usr/local/lib/python3.6/dist-packages/tensorflow/python/eager/function.py\u001b[0m in \u001b[0;36m_call_flat\u001b[0;34m(self, args, captured_inputs, cancellation_manager)\u001b[0m\n\u001b[1;32m   1744\u001b[0m       \u001b[0;31m# No tape is watching; skip to running the function.\u001b[0m\u001b[0;34m\u001b[0m\u001b[0;34m\u001b[0m\u001b[0;34m\u001b[0m\u001b[0m\n\u001b[1;32m   1745\u001b[0m       return self._build_call_outputs(self._inference_function.call(\n\u001b[0;32m-> 1746\u001b[0;31m           ctx, args, cancellation_manager=cancellation_manager))\n\u001b[0m\u001b[1;32m   1747\u001b[0m     forward_backward = self._select_forward_and_backward_functions(\n\u001b[1;32m   1748\u001b[0m         \u001b[0margs\u001b[0m\u001b[0;34m,\u001b[0m\u001b[0;34m\u001b[0m\u001b[0;34m\u001b[0m\u001b[0m\n",
            "\u001b[0;32m/usr/local/lib/python3.6/dist-packages/tensorflow/python/eager/function.py\u001b[0m in \u001b[0;36mcall\u001b[0;34m(self, ctx, args, cancellation_manager)\u001b[0m\n\u001b[1;32m    596\u001b[0m               \u001b[0minputs\u001b[0m\u001b[0;34m=\u001b[0m\u001b[0margs\u001b[0m\u001b[0;34m,\u001b[0m\u001b[0;34m\u001b[0m\u001b[0;34m\u001b[0m\u001b[0m\n\u001b[1;32m    597\u001b[0m               \u001b[0mattrs\u001b[0m\u001b[0;34m=\u001b[0m\u001b[0mattrs\u001b[0m\u001b[0;34m,\u001b[0m\u001b[0;34m\u001b[0m\u001b[0;34m\u001b[0m\u001b[0m\n\u001b[0;32m--> 598\u001b[0;31m               ctx=ctx)\n\u001b[0m\u001b[1;32m    599\u001b[0m         \u001b[0;32melse\u001b[0m\u001b[0;34m:\u001b[0m\u001b[0;34m\u001b[0m\u001b[0;34m\u001b[0m\u001b[0m\n\u001b[1;32m    600\u001b[0m           outputs = execute.execute_with_cancellation(\n",
            "\u001b[0;32m/usr/local/lib/python3.6/dist-packages/tensorflow/python/eager/execute.py\u001b[0m in \u001b[0;36mquick_execute\u001b[0;34m(op_name, num_outputs, inputs, attrs, ctx, name)\u001b[0m\n\u001b[1;32m     58\u001b[0m     \u001b[0mctx\u001b[0m\u001b[0;34m.\u001b[0m\u001b[0mensure_initialized\u001b[0m\u001b[0;34m(\u001b[0m\u001b[0;34m)\u001b[0m\u001b[0;34m\u001b[0m\u001b[0;34m\u001b[0m\u001b[0m\n\u001b[1;32m     59\u001b[0m     tensors = pywrap_tfe.TFE_Py_Execute(ctx._handle, device_name, op_name,\n\u001b[0;32m---> 60\u001b[0;31m                                         inputs, attrs, num_outputs)\n\u001b[0m\u001b[1;32m     61\u001b[0m   \u001b[0;32mexcept\u001b[0m \u001b[0mcore\u001b[0m\u001b[0;34m.\u001b[0m\u001b[0m_NotOkStatusException\u001b[0m \u001b[0;32mas\u001b[0m \u001b[0me\u001b[0m\u001b[0;34m:\u001b[0m\u001b[0;34m\u001b[0m\u001b[0;34m\u001b[0m\u001b[0m\n\u001b[1;32m     62\u001b[0m     \u001b[0;32mif\u001b[0m \u001b[0mname\u001b[0m \u001b[0;32mis\u001b[0m \u001b[0;32mnot\u001b[0m \u001b[0;32mNone\u001b[0m\u001b[0;34m:\u001b[0m\u001b[0;34m\u001b[0m\u001b[0;34m\u001b[0m\u001b[0m\n",
            "\u001b[0;31mKeyboardInterrupt\u001b[0m: "
          ]
        }
      ]
    },
    {
      "cell_type": "code",
      "metadata": {
        "id": "FXlzL6iGf-aa",
        "colab_type": "code",
        "colab": {}
      },
      "source": [
        "def plot_graphs(history, string):\n",
        "  plt.title(string+' con 3 epochs')\n",
        "  plt.plot(history.history[string])\n",
        "  plt.plot(history.history['val_'+string])\n",
        "  plt.xlabel(\"Epochs\")\n",
        "  plt.ylabel(string)\n",
        "  plt.legend([string, 'val_'+string])\n",
        "  plt.show()\n",
        "  \n",
        "plot_graphs(history, \"accuracy\")\n",
        "plot_graphs(history, \"loss\")"
      ],
      "execution_count": 0,
      "outputs": []
    }
  ]
}